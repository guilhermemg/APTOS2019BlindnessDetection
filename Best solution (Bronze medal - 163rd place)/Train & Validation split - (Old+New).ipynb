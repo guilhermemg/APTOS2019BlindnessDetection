{
 "cells": [
  {
   "cell_type": "markdown",
   "metadata": {},
   "source": [
    "# Dependencies"
   ]
  },
  {
   "cell_type": "code",
   "execution_count": 3,
   "metadata": {
    "_cell_guid": "b1076dfc-b9ad-4769-8c92-a6c4dae69d19",
    "_kg_hide-input": true,
    "_kg_hide-output": true,
    "_uuid": "8f2839f25d086af736a60e9eeb907d3b93b6e0e5"
   },
   "outputs": [],
   "source": [
    "import os\n",
    "import cv2\n",
    "import random\n",
    "import warnings\n",
    "import numpy as np\n",
    "import pandas as pd\n",
    "import seaborn as sns\n",
    "import matplotlib.pyplot as plt\n",
    "from sklearn.model_selection import train_test_split, StratifiedKFold\n",
    "\n",
    "# Set seeds to make the experiment more reproducible.\n",
    "def seed_everything(seed=0):\n",
    "    random.seed(seed)\n",
    "    os.environ['PYTHONHASHSEED'] = str(seed)\n",
    "    np.random.seed(seed)\n",
    "    \n",
    "seed = 0\n",
    "seed_everything(seed)\n",
    "\n",
    "%matplotlib inline\n",
    "sns.set(style=\"whitegrid\")\n",
    "warnings.filterwarnings(\"ignore\")"
   ]
  },
  {
   "cell_type": "markdown",
   "metadata": {
    "_kg_hide-output": true
   },
   "source": [
    "# Load data"
   ]
  },
  {
   "cell_type": "code",
   "execution_count": 4,
   "metadata": {
    "_cell_guid": "79c7e3d0-c299-4dcb-8224-4455121ee9b0",
    "_kg_hide-input": true,
    "_uuid": "d629ff2d2480ee46fbb7e2d37f6b5fab8052498a"
   },
   "outputs": [
    {
     "name": "stdout",
     "output_type": "stream",
     "text": [
      "Number of train samples:  19430\n",
      "Number of test samples:  1928\n"
     ]
    },
    {
     "data": {
      "text/html": [
       "<div>\n",
       "<style scoped>\n",
       "    .dataframe tbody tr th:only-of-type {\n",
       "        vertical-align: middle;\n",
       "    }\n",
       "\n",
       "    .dataframe tbody tr th {\n",
       "        vertical-align: top;\n",
       "    }\n",
       "\n",
       "    .dataframe thead th {\n",
       "        text-align: right;\n",
       "    }\n",
       "</style>\n",
       "<table border=\"1\" class=\"dataframe\">\n",
       "  <thead>\n",
       "    <tr style=\"text-align: right;\">\n",
       "      <th></th>\n",
       "      <th>id_code</th>\n",
       "      <th>diagnosis</th>\n",
       "      <th>data</th>\n",
       "    </tr>\n",
       "  </thead>\n",
       "  <tbody>\n",
       "    <tr>\n",
       "      <td>0</td>\n",
       "      <td>000c1434d8d7.png</td>\n",
       "      <td>2</td>\n",
       "      <td>new</td>\n",
       "    </tr>\n",
       "    <tr>\n",
       "      <td>1</td>\n",
       "      <td>001639a390f0.png</td>\n",
       "      <td>4</td>\n",
       "      <td>new</td>\n",
       "    </tr>\n",
       "    <tr>\n",
       "      <td>2</td>\n",
       "      <td>0024cdab0c1e.png</td>\n",
       "      <td>1</td>\n",
       "      <td>new</td>\n",
       "    </tr>\n",
       "    <tr>\n",
       "      <td>3</td>\n",
       "      <td>002c21358ce6.png</td>\n",
       "      <td>0</td>\n",
       "      <td>new</td>\n",
       "    </tr>\n",
       "    <tr>\n",
       "      <td>4</td>\n",
       "      <td>005b95c28852.png</td>\n",
       "      <td>0</td>\n",
       "      <td>new</td>\n",
       "    </tr>\n",
       "  </tbody>\n",
       "</table>\n",
       "</div>"
      ],
      "text/plain": [
       "            id_code  diagnosis data\n",
       "0  000c1434d8d7.png          2  new\n",
       "1  001639a390f0.png          4  new\n",
       "2  0024cdab0c1e.png          1  new\n",
       "3  002c21358ce6.png          0  new\n",
       "4  005b95c28852.png          0  new"
      ]
     },
     "metadata": {},
     "output_type": "display_data"
    }
   ],
   "source": [
    "new_data = pd.read_csv('../input/aptos2019-blindness-detection/train.csv')\n",
    "old_data = pd.read_csv('../input/diabetic-retinopathy-resized/trainLabels.csv')\n",
    "test_df = pd.read_csv('../input/aptos2019-blindness-detection/test.csv')\n",
    "\n",
    "old_data = old_data[['image', 'level']]\n",
    "old_data.columns = new_data.columns\n",
    "new_data['data'] = 'new'\n",
    "old_data['data'] = 'old'\n",
    "old_data[\"id_code\"] = old_data[\"id_code\"].apply(lambda x: x + \".jpeg\")\n",
    "new_data[\"id_code\"] = new_data[\"id_code\"].apply(lambda x: x + \".png\")\n",
    "test_df[\"id_code\"] = test_df[\"id_code\"].apply(lambda x: x + \".png\")\n",
    "\n",
    "# Sample rows of diagnosis = 0\n",
    "diag_0 = old_data[old_data['diagnosis'] == 0].sample(frac=0.25, random_state=seed)\n",
    "diag_oth = old_data[old_data['diagnosis'] != 0]\n",
    "old_data = diag_0.append(diag_oth)\n",
    "\n",
    "train_df = new_data.append(old_data)\n",
    "print('Number of train samples: ', train_df.shape[0])\n",
    "print('Number of test samples: ', test_df.shape[0])\n",
    "display(train_df.head())"
   ]
  },
  {
   "cell_type": "markdown",
   "metadata": {},
   "source": [
    "# Hold-out train validation split (50%) of new dataset data"
   ]
  },
  {
   "cell_type": "code",
   "execution_count": 5,
   "metadata": {},
   "outputs": [],
   "source": [
    "train, validation = train_test_split(new_data, test_size=0.5, random_state=seed)\n",
    "train = train.append(old_data)"
   ]
  },
  {
   "cell_type": "markdown",
   "metadata": {},
   "source": [
    "# Train & Validation label distribution"
   ]
  },
  {
   "cell_type": "code",
   "execution_count": 6,
   "metadata": {
    "_kg_hide-input": true
   },
   "outputs": [
    {
     "data": {
      "image/png": "[encoded data removed]",
      "text/plain": [
       "<Figure size 1728x626.4 with 2 Axes>"
      ]
     },
     "metadata": {},
     "output_type": "display_data"
    }
   ],
   "source": [
    "fig, (ax1, ax2) = plt.subplots(1, 2, sharex='col', figsize=(24, 8.7))\n",
    "sns.countplot(x=\"diagnosis\", data=train, palette=\"GnBu_d\", ax=ax1).set_title('Train')\n",
    "sns.countplot(x=\"diagnosis\", data=validation, palette=\"GnBu_d\", ax=ax2).set_title('Validation')\n",
    "sns.despine()\n",
    "plt.show()"
   ]
  },
  {
   "cell_type": "markdown",
   "metadata": {},
   "source": [
    "# Output hold-out set"
   ]
  },
  {
   "cell_type": "code",
   "execution_count": 7,
   "metadata": {
    "_kg_hide-input": true
   },
   "outputs": [
    {
     "name": "stdout",
     "output_type": "stream",
     "text": [
      "Number of train samples:  17599\n",
      "Number of validation samples:  1831\n"
     ]
    },
    {
     "data": {
      "text/html": [
       "<div>\n",
       "<style scoped>\n",
       "    .dataframe tbody tr th:only-of-type {\n",
       "        vertical-align: middle;\n",
       "    }\n",
       "\n",
       "    .dataframe tbody tr th {\n",
       "        vertical-align: top;\n",
       "    }\n",
       "\n",
       "    .dataframe thead th {\n",
       "        text-align: right;\n",
       "    }\n",
       "</style>\n",
       "<table border=\"1\" class=\"dataframe\">\n",
       "  <thead>\n",
       "    <tr style=\"text-align: right;\">\n",
       "      <th></th>\n",
       "      <th>id_code</th>\n",
       "      <th>diagnosis</th>\n",
       "      <th>data</th>\n",
       "      <th>set</th>\n",
       "    </tr>\n",
       "  </thead>\n",
       "  <tbody>\n",
       "    <tr>\n",
       "      <td>2213</td>\n",
       "      <td>9b70f84400af.png</td>\n",
       "      <td>0</td>\n",
       "      <td>new</td>\n",
       "      <td>train</td>\n",
       "    </tr>\n",
       "    <tr>\n",
       "      <td>2792</td>\n",
       "      <td>c0e509786f7f.png</td>\n",
       "      <td>4</td>\n",
       "      <td>new</td>\n",
       "      <td>train</td>\n",
       "    </tr>\n",
       "    <tr>\n",
       "      <td>2522</td>\n",
       "      <td>aeab0a63bcaf.png</td>\n",
       "      <td>0</td>\n",
       "      <td>new</td>\n",
       "      <td>train</td>\n",
       "    </tr>\n",
       "    <tr>\n",
       "      <td>3364</td>\n",
       "      <td>e97ecf4355cb.png</td>\n",
       "      <td>0</td>\n",
       "      <td>new</td>\n",
       "      <td>train</td>\n",
       "    </tr>\n",
       "    <tr>\n",
       "      <td>3484</td>\n",
       "      <td>f26b02ead915.png</td>\n",
       "      <td>0</td>\n",
       "      <td>new</td>\n",
       "      <td>train</td>\n",
       "    </tr>\n",
       "  </tbody>\n",
       "</table>\n",
       "</div>"
      ],
      "text/plain": [
       "               id_code  diagnosis data    set\n",
       "2213  9b70f84400af.png          0  new  train\n",
       "2792  c0e509786f7f.png          4  new  train\n",
       "2522  aeab0a63bcaf.png          0  new  train\n",
       "3364  e97ecf4355cb.png          0  new  train\n",
       "3484  f26b02ead915.png          0  new  train"
      ]
     },
     "metadata": {},
     "output_type": "display_data"
    }
   ],
   "source": [
    "train['set'] = 'train'\n",
    "validation['set'] = 'validation'\n",
    "train_complete = train.append(validation)\n",
    "train_complete.to_csv('hold-out_5.csv', index=False)\n",
    "print('Number of train samples: ', train.shape[0])\n",
    "print('Number of validation samples: ', validation.shape[0])\n",
    "display(train_complete.head())"
   ]
  },
  {
   "cell_type": "markdown",
   "metadata": {},
   "source": [
    "# Hold-out train validation split (30%) of new dataset data"
   ]
  },
  {
   "cell_type": "code",
   "execution_count": 8,
   "metadata": {},
   "outputs": [],
   "source": [
    "train, validation = train_test_split(new_data, test_size=0.3, random_state=seed)\n",
    "train = train.append(old_data)"
   ]
  },
  {
   "cell_type": "markdown",
   "metadata": {},
   "source": [
    "# Output hold-out set"
   ]
  },
  {
   "cell_type": "code",
   "execution_count": 9,
   "metadata": {},
   "outputs": [
    {
     "name": "stdout",
     "output_type": "stream",
     "text": [
      "Number of train samples:  18331\n",
      "Number of validation samples:  1099\n"
     ]
    },
    {
     "data": {
      "text/html": [
       "<div>\n",
       "<style scoped>\n",
       "    .dataframe tbody tr th:only-of-type {\n",
       "        vertical-align: middle;\n",
       "    }\n",
       "\n",
       "    .dataframe tbody tr th {\n",
       "        vertical-align: top;\n",
       "    }\n",
       "\n",
       "    .dataframe thead th {\n",
       "        text-align: right;\n",
       "    }\n",
       "</style>\n",
       "<table border=\"1\" class=\"dataframe\">\n",
       "  <thead>\n",
       "    <tr style=\"text-align: right;\">\n",
       "      <th></th>\n",
       "      <th>id_code</th>\n",
       "      <th>diagnosis</th>\n",
       "      <th>data</th>\n",
       "      <th>set</th>\n",
       "    </tr>\n",
       "  </thead>\n",
       "  <tbody>\n",
       "    <tr>\n",
       "      <td>1414</td>\n",
       "      <td>6324d77cf926.png</td>\n",
       "      <td>0</td>\n",
       "      <td>new</td>\n",
       "      <td>train</td>\n",
       "    </tr>\n",
       "    <tr>\n",
       "      <td>745</td>\n",
       "      <td>3599029efeb3.png</td>\n",
       "      <td>0</td>\n",
       "      <td>new</td>\n",
       "      <td>train</td>\n",
       "    </tr>\n",
       "    <tr>\n",
       "      <td>3516</td>\n",
       "      <td>f4e68b61f480.png</td>\n",
       "      <td>0</td>\n",
       "      <td>new</td>\n",
       "      <td>train</td>\n",
       "    </tr>\n",
       "    <tr>\n",
       "      <td>1490</td>\n",
       "      <td>6852f4531591.png</td>\n",
       "      <td>0</td>\n",
       "      <td>new</td>\n",
       "      <td>train</td>\n",
       "    </tr>\n",
       "    <tr>\n",
       "      <td>1757</td>\n",
       "      <td>7c2e852171c0.png</td>\n",
       "      <td>0</td>\n",
       "      <td>new</td>\n",
       "      <td>train</td>\n",
       "    </tr>\n",
       "  </tbody>\n",
       "</table>\n",
       "</div>"
      ],
      "text/plain": [
       "               id_code  diagnosis data    set\n",
       "1414  6324d77cf926.png          0  new  train\n",
       "745   3599029efeb3.png          0  new  train\n",
       "3516  f4e68b61f480.png          0  new  train\n",
       "1490  6852f4531591.png          0  new  train\n",
       "1757  7c2e852171c0.png          0  new  train"
      ]
     },
     "metadata": {},
     "output_type": "display_data"
    }
   ],
   "source": [
    "train['set'] = 'train'\n",
    "validation['set'] = 'validation'\n",
    "train_complete = train.append(validation)\n",
    "train_complete.to_csv('hold-out_3.csv', index=False)\n",
    "print('Number of train samples: ', train.shape[0])\n",
    "print('Number of validation samples: ', validation.shape[0])\n",
    "display(train_complete.head())"
   ]
  },
  {
   "cell_type": "markdown",
   "metadata": {},
   "source": [
    "# 5-Fold split"
   ]
  },
  {
   "cell_type": "code",
   "execution_count": 10,
   "metadata": {
    "_kg_hide-input": false
   },
   "outputs": [
    {
     "name": "stdout",
     "output_type": "stream",
     "text": [
      "Fold: 0, Train size: 2929, Validation size 733\n",
      "Fold: 1, Train size: 2929, Validation size 733\n",
      "Fold: 2, Train size: 2929, Validation size 733\n",
      "Fold: 3, Train size: 2930, Validation size 732\n",
      "Fold: 4, Train size: 2931, Validation size 731\n"
     ]
    },
    {
     "data": {
      "text/html": [
       "<div>\n",
       "<style scoped>\n",
       "    .dataframe tbody tr th:only-of-type {\n",
       "        vertical-align: middle;\n",
       "    }\n",
       "\n",
       "    .dataframe tbody tr th {\n",
       "        vertical-align: top;\n",
       "    }\n",
       "\n",
       "    .dataframe thead th {\n",
       "        text-align: right;\n",
       "    }\n",
       "</style>\n",
       "<table border=\"1\" class=\"dataframe\">\n",
       "  <thead>\n",
       "    <tr style=\"text-align: right;\">\n",
       "      <th></th>\n",
       "      <th>id_code</th>\n",
       "      <th>diagnosis</th>\n",
       "      <th>data</th>\n",
       "      <th>fold_0</th>\n",
       "      <th>fold_1</th>\n",
       "      <th>fold_2</th>\n",
       "      <th>fold_3</th>\n",
       "      <th>fold_4</th>\n",
       "    </tr>\n",
       "  </thead>\n",
       "  <tbody>\n",
       "    <tr>\n",
       "      <td>32132</td>\n",
       "      <td>40576_left.jpeg</td>\n",
       "      <td>0</td>\n",
       "      <td>old</td>\n",
       "      <td>train</td>\n",
       "      <td>train</td>\n",
       "      <td>train</td>\n",
       "      <td>train</td>\n",
       "      <td>train</td>\n",
       "    </tr>\n",
       "    <tr>\n",
       "      <td>26166</td>\n",
       "      <td>33112_left.jpeg</td>\n",
       "      <td>0</td>\n",
       "      <td>old</td>\n",
       "      <td>train</td>\n",
       "      <td>train</td>\n",
       "      <td>train</td>\n",
       "      <td>train</td>\n",
       "      <td>train</td>\n",
       "    </tr>\n",
       "    <tr>\n",
       "      <td>25243</td>\n",
       "      <td>31961_right.jpeg</td>\n",
       "      <td>0</td>\n",
       "      <td>old</td>\n",
       "      <td>train</td>\n",
       "      <td>train</td>\n",
       "      <td>train</td>\n",
       "      <td>train</td>\n",
       "      <td>train</td>\n",
       "    </tr>\n",
       "    <tr>\n",
       "      <td>2010</td>\n",
       "      <td>2515_left.jpeg</td>\n",
       "      <td>0</td>\n",
       "      <td>old</td>\n",
       "      <td>train</td>\n",
       "      <td>train</td>\n",
       "      <td>train</td>\n",
       "      <td>train</td>\n",
       "      <td>train</td>\n",
       "    </tr>\n",
       "    <tr>\n",
       "      <td>31965</td>\n",
       "      <td>40364_right.jpeg</td>\n",
       "      <td>0</td>\n",
       "      <td>old</td>\n",
       "      <td>train</td>\n",
       "      <td>train</td>\n",
       "      <td>train</td>\n",
       "      <td>train</td>\n",
       "      <td>train</td>\n",
       "    </tr>\n",
       "  </tbody>\n",
       "</table>\n",
       "</div>"
      ],
      "text/plain": [
       "                id_code  diagnosis data fold_0 fold_1 fold_2 fold_3 fold_4\n",
       "32132   40576_left.jpeg          0  old  train  train  train  train  train\n",
       "26166   33112_left.jpeg          0  old  train  train  train  train  train\n",
       "25243  31961_right.jpeg          0  old  train  train  train  train  train\n",
       "2010     2515_left.jpeg          0  old  train  train  train  train  train\n",
       "31965  40364_right.jpeg          0  old  train  train  train  train  train"
      ]
     },
     "metadata": {},
     "output_type": "display_data"
    }
   ],
   "source": [
    "folds = StratifiedKFold(n_splits=5, shuffle=True, random_state=seed)\n",
    "\n",
    "for fold_n, (trn_idx, val_idx) in enumerate(folds.split(new_data, new_data['diagnosis'])):\n",
    "    print('Fold: %s, Train size: %s, Validation size %s' % \n",
    "          (fold_n, len(trn_idx), len(val_idx)))\n",
    "    new_data[('fold_%s' % fold_n)] = 0\n",
    "    new_data[('fold_%s' % fold_n)].loc[trn_idx] = 'train'\n",
    "    new_data[('fold_%s' % fold_n)].loc[val_idx] = 'validation'\n",
    "    old_data[('fold_%s' % fold_n)] = 0\n",
    "    old_data[('fold_%s' % fold_n)] = 'train'\n",
    "    \n",
    "train_df = old_data.append(new_data)\n",
    "display(train_df.head())"
   ]
  },
  {
   "cell_type": "markdown",
   "metadata": {},
   "source": [
    "# Train & Validation label distribution"
   ]
  },
  {
   "cell_type": "code",
   "execution_count": 11,
   "metadata": {
    "_kg_hide-input": true
   },
   "outputs": [
    {
     "data": {
      "image/png": "[encoded data removed]",
      "text/plain": [
       "<Figure size 1728x432 with 2 Axes>"
      ]
     },
     "metadata": {},
     "output_type": "display_data"
    },
    {
     "data": {
      "image/png": "[encoded data removed]",
      "text/plain": [
       "<Figure size 1728x432 with 2 Axes>"
      ]
     },
     "metadata": {},
     "output_type": "display_data"
    },
    {
     "data": {
      "image/png": "[encoded data removed]",
      "text/plain": [
       "<Figure size 1728x432 with 2 Axes>"
      ]
     },
     "metadata": {},
     "output_type": "display_data"
    },
    {
     "data": {
      "image/png": "[encoded data removed]",
      "text/plain": [
       "<Figure size 1728x432 with 2 Axes>"
      ]
     },
     "metadata": {},
     "output_type": "display_data"
    },
    {
     "data": {
      "image/png": "[encoded data removed]",
      "text/plain": [
       "<Figure size 1728x432 with 2 Axes>"
      ]
     },
     "metadata": {},
     "output_type": "display_data"
    }
   ],
   "source": [
    "for fold_n, (trn_idx, val_idx) in enumerate(folds.split(train_df, train_df['diagnosis'])):\n",
    "    fig, (ax1, ax2) = plt.subplots(1, 2, sharex='col', figsize=(24, 6))\n",
    "    fig.suptitle('Fold%s'%fold_n, fontsize=22)    \n",
    "    sns.countplot(x=\"diagnosis\", data=train_df[train_df[('fold_%s' % fold_n)] == 'train'], palette=\"GnBu_d\", ax=ax1).set_title('Train')\n",
    "    sns.countplot(x=\"diagnosis\", data=train_df[train_df[('fold_%s' % fold_n)] == 'validation'], palette=\"GnBu_d\", ax=ax2).set_title('Validation')\n",
    "    sns.despine()\n",
    "    plt.show()"
   ]
  },
  {
   "cell_type": "markdown",
   "metadata": {},
   "source": [
    "# Output 5-fold set"
   ]
  },
  {
   "cell_type": "code",
   "execution_count": 12,
   "metadata": {
    "_kg_hide-input": true
   },
   "outputs": [
    {
     "name": "stdout",
     "output_type": "stream",
     "text": [
      "Number of train samples:  18699\n",
      "Number of validation samples:  731\n"
     ]
    },
    {
     "data": {
      "text/html": [
       "<div>\n",
       "<style scoped>\n",
       "    .dataframe tbody tr th:only-of-type {\n",
       "        vertical-align: middle;\n",
       "    }\n",
       "\n",
       "    .dataframe tbody tr th {\n",
       "        vertical-align: top;\n",
       "    }\n",
       "\n",
       "    .dataframe thead th {\n",
       "        text-align: right;\n",
       "    }\n",
       "</style>\n",
       "<table border=\"1\" class=\"dataframe\">\n",
       "  <thead>\n",
       "    <tr style=\"text-align: right;\">\n",
       "      <th></th>\n",
       "      <th>id_code</th>\n",
       "      <th>diagnosis</th>\n",
       "      <th>data</th>\n",
       "      <th>fold_0</th>\n",
       "      <th>fold_1</th>\n",
       "      <th>fold_2</th>\n",
       "      <th>fold_3</th>\n",
       "      <th>fold_4</th>\n",
       "    </tr>\n",
       "  </thead>\n",
       "  <tbody>\n",
       "    <tr>\n",
       "      <td>32132</td>\n",
       "      <td>40576_left.jpeg</td>\n",
       "      <td>0</td>\n",
       "      <td>old</td>\n",
       "      <td>train</td>\n",
       "      <td>train</td>\n",
       "      <td>train</td>\n",
       "      <td>train</td>\n",
       "      <td>train</td>\n",
       "    </tr>\n",
       "    <tr>\n",
       "      <td>26166</td>\n",
       "      <td>33112_left.jpeg</td>\n",
       "      <td>0</td>\n",
       "      <td>old</td>\n",
       "      <td>train</td>\n",
       "      <td>train</td>\n",
       "      <td>train</td>\n",
       "      <td>train</td>\n",
       "      <td>train</td>\n",
       "    </tr>\n",
       "    <tr>\n",
       "      <td>25243</td>\n",
       "      <td>31961_right.jpeg</td>\n",
       "      <td>0</td>\n",
       "      <td>old</td>\n",
       "      <td>train</td>\n",
       "      <td>train</td>\n",
       "      <td>train</td>\n",
       "      <td>train</td>\n",
       "      <td>train</td>\n",
       "    </tr>\n",
       "    <tr>\n",
       "      <td>2010</td>\n",
       "      <td>2515_left.jpeg</td>\n",
       "      <td>0</td>\n",
       "      <td>old</td>\n",
       "      <td>train</td>\n",
       "      <td>train</td>\n",
       "      <td>train</td>\n",
       "      <td>train</td>\n",
       "      <td>train</td>\n",
       "    </tr>\n",
       "    <tr>\n",
       "      <td>31965</td>\n",
       "      <td>40364_right.jpeg</td>\n",
       "      <td>0</td>\n",
       "      <td>old</td>\n",
       "      <td>train</td>\n",
       "      <td>train</td>\n",
       "      <td>train</td>\n",
       "      <td>train</td>\n",
       "      <td>train</td>\n",
       "    </tr>\n",
       "  </tbody>\n",
       "</table>\n",
       "</div>"
      ],
      "text/plain": [
       "                id_code  diagnosis data fold_0 fold_1 fold_2 fold_3 fold_4\n",
       "32132   40576_left.jpeg          0  old  train  train  train  train  train\n",
       "26166   33112_left.jpeg          0  old  train  train  train  train  train\n",
       "25243  31961_right.jpeg          0  old  train  train  train  train  train\n",
       "2010     2515_left.jpeg          0  old  train  train  train  train  train\n",
       "31965  40364_right.jpeg          0  old  train  train  train  train  train"
      ]
     },
     "metadata": {},
     "output_type": "display_data"
    }
   ],
   "source": [
    "train_df.to_csv('5-fold.csv', index=False)\n",
    "print('Number of train samples: ', train_df[train_df[('fold_%s' % fold_n)] == 'train'].shape[0])\n",
    "print('Number of validation samples: ', train_df[train_df[('fold_%s' % fold_n)] == 'validation'].shape[0])\n",
    "display(train_df.head())"
   ]
  }
 ],
 "metadata": {
  "kernelspec": {
   "display_name": "Python 3",
   "language": "python",
   "name": "python3"
  },
  "language_info": {
   "codemirror_mode": {
    "name": "ipython",
    "version": 3
   },
   "file_extension": ".py",
   "mimetype": "text/x-python",
   "name": "python",
   "nbconvert_exporter": "python",
   "pygments_lexer": "ipython3",
   "version": "3.7.4"
  }
 },
 "nbformat": 4,
 "nbformat_minor": 4
}
